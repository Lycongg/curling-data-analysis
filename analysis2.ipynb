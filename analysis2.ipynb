{
 "cells": [
  {
   "attachments": {},
   "cell_type": "markdown",
   "metadata": {},
   "source": [
    "<center>世界重要赛事冰壶数据分析</center>\n",
    "<center>2020,12,17</center>\n",
    "\n",
    "#### 这篇笔记将利用之前已经得到的24场世界冰壶协会的赛事数据分析男女运动员投壶策略的差异，在冰壶运动中，男性运动员是否更喜爱进攻，女性运动员更偏爱防守策略呢？\n",
    "    通过以下字段进行统计学分析：\n",
    "- shot表里面的shot_type(投掷方式）,如果男女运动员的投壶策略基本相同，那么这个字段在男女运动员之间应该没有很大差异\n",
    "- \"stones in play\":如果女性运动员偏爱防守策略，那么每一局比赛场上的留下的冰壶数量应该更多\n",
    "\n",
    "统计学上采用卡方检验，显著性差异，P<0.05视为有意义。\n"
   ]
  },
  {
   "cell_type": "markdown",
   "metadata": {},
   "source": [
    "## 一、投掷方式分析"
   ]
  },
  {
   "attachments": {},
   "cell_type": "markdown",
   "metadata": {},
   "source": [
    "- 从game表type键获取性别，从shot表中type键中获取投壶方式\n",
    "- 按现有字段分析：统计每一种投掷方式的性别分布，利用卡方检验，进而比较男女运动员各自喜好的击球方式，但是这并没有直接说明男运动员比女运动员更喜欢把球用“暴力”打出界外\n",
    "- 按\"击打\"与\"不击打\"分类：把现有的投壶方式归为两类,但是这样统计会失去一些细节\n",
    "\n",
    "两种分析方法各有优劣，因此我们使用两种方法，看看结果会是怎样"
   ]
  },
  {
   "cell_type": "code",
   "execution_count": 1,
   "metadata": {},
   "outputs": [],
   "source": [
    "# 连接数据库\n",
    "import os\n",
    "os.environ[\"CADBPATH\"]=os.getcwd() + \"/curling_data.db\"\n",
    "\n",
    "import database_functions as db"
   ]
  },
  {
   "cell_type": "code",
   "execution_count": 2,
   "metadata": {},
   "outputs": [
    {
     "data": {
      "text/html": [
       "<div>\n",
       "<style scoped>\n",
       "    .dataframe tbody tr th:only-of-type {\n",
       "        vertical-align: middle;\n",
       "    }\n",
       "\n",
       "    .dataframe tbody tr th {\n",
       "        vertical-align: top;\n",
       "    }\n",
       "\n",
       "    .dataframe thead th {\n",
       "        text-align: right;\n",
       "    }\n",
       "</style>\n",
       "<table border=\"1\" class=\"dataframe\">\n",
       "  <thead>\n",
       "    <tr style=\"text-align: right;\">\n",
       "      <th></th>\n",
       "      <th>game_type</th>\n",
       "      <th>shot_type</th>\n",
       "    </tr>\n",
       "  </thead>\n",
       "  <tbody>\n",
       "    <tr>\n",
       "      <th>0</th>\n",
       "      <td>Men</td>\n",
       "      <td>Front</td>\n",
       "    </tr>\n",
       "    <tr>\n",
       "      <th>1</th>\n",
       "      <td>Men</td>\n",
       "      <td>Draw</td>\n",
       "    </tr>\n",
       "    <tr>\n",
       "      <th>2</th>\n",
       "      <td>Men</td>\n",
       "      <td>Hit and Roll</td>\n",
       "    </tr>\n",
       "    <tr>\n",
       "      <th>3</th>\n",
       "      <td>Men</td>\n",
       "      <td>Draw</td>\n",
       "    </tr>\n",
       "    <tr>\n",
       "      <th>4</th>\n",
       "      <td>Men</td>\n",
       "      <td>Draw</td>\n",
       "    </tr>\n",
       "    <tr>\n",
       "      <th>...</th>\n",
       "      <td>...</td>\n",
       "      <td>...</td>\n",
       "    </tr>\n",
       "    <tr>\n",
       "      <th>182770</th>\n",
       "      <td>Women</td>\n",
       "      <td>Double Take-out</td>\n",
       "    </tr>\n",
       "    <tr>\n",
       "      <th>182771</th>\n",
       "      <td>Women</td>\n",
       "      <td>Double Take-out</td>\n",
       "    </tr>\n",
       "    <tr>\n",
       "      <th>182772</th>\n",
       "      <td>Women</td>\n",
       "      <td>Double Take-out</td>\n",
       "    </tr>\n",
       "    <tr>\n",
       "      <th>182773</th>\n",
       "      <td>Women</td>\n",
       "      <td>Draw</td>\n",
       "    </tr>\n",
       "    <tr>\n",
       "      <th>182774</th>\n",
       "      <td>Women</td>\n",
       "      <td>Draw</td>\n",
       "    </tr>\n",
       "  </tbody>\n",
       "</table>\n",
       "<p>182775 rows × 2 columns</p>\n",
       "</div>"
      ],
      "text/plain": [
       "       game_type        shot_type\n",
       "0            Men            Front\n",
       "1            Men             Draw\n",
       "2            Men     Hit and Roll\n",
       "3            Men             Draw\n",
       "4            Men             Draw\n",
       "...          ...              ...\n",
       "182770     Women  Double Take-out\n",
       "182771     Women  Double Take-out\n",
       "182772     Women  Double Take-out\n",
       "182773     Women             Draw\n",
       "182774     Women             Draw\n",
       "\n",
       "[182775 rows x 2 columns]"
      ]
     },
     "execution_count": 2,
     "metadata": {},
     "output_type": "execute_result"
    }
   ],
   "source": [
    "q = \"\"\"\n",
    "SELECT games.type AS game_type, shots.type AS shot_type FROM games\n",
    "INNER JOIN ends ON ends.game_id = games.id\n",
    "INNER JOIN shots ON shots.end_id = ends.id\n",
    "\"\"\"\n",
    "type_df = db.run_query(q)\n",
    "type_df"
   ]
  },
  {
   "cell_type": "code",
   "execution_count": 3,
   "metadata": {},
   "outputs": [
    {
     "data": {
      "text/html": [
       "<div>\n",
       "<style scoped>\n",
       "    .dataframe tbody tr th:only-of-type {\n",
       "        vertical-align: middle;\n",
       "    }\n",
       "\n",
       "    .dataframe tbody tr th {\n",
       "        vertical-align: top;\n",
       "    }\n",
       "\n",
       "    .dataframe thead th {\n",
       "        text-align: right;\n",
       "    }\n",
       "</style>\n",
       "<table border=\"1\" class=\"dataframe\">\n",
       "  <thead>\n",
       "    <tr style=\"text-align: right;\">\n",
       "      <th></th>\n",
       "      <th>shot_type</th>\n",
       "    </tr>\n",
       "    <tr>\n",
       "      <th>game_type</th>\n",
       "      <th></th>\n",
       "    </tr>\n",
       "  </thead>\n",
       "  <tbody>\n",
       "    <tr>\n",
       "      <th>Men</th>\n",
       "      <td>95422</td>\n",
       "    </tr>\n",
       "    <tr>\n",
       "      <th>Women</th>\n",
       "      <td>87353</td>\n",
       "    </tr>\n",
       "  </tbody>\n",
       "</table>\n",
       "</div>"
      ],
      "text/plain": [
       "           shot_type\n",
       "game_type           \n",
       "Men            95422\n",
       "Women          87353"
      ]
     },
     "execution_count": 3,
     "metadata": {},
     "output_type": "execute_result"
    }
   ],
   "source": [
    "# 首先看一下男女运动员分别投壶的总次数\n",
    "type_df.groupby(\"game_type\").count()"
   ]
  },
  {
   "cell_type": "markdown",
   "metadata": {},
   "source": [
    "    从上表可以看出，男运动员和女运动员的投壶次数差别不大，男运动员要多10%左右，因此在比较的时候需要转化成百分比的形式，卡方检验不需要做标准归一化操作"
   ]
  },
  {
   "cell_type": "code",
   "execution_count": 4,
   "metadata": {},
   "outputs": [
    {
     "data": {
      "text/html": [
       "<div>\n",
       "<style scoped>\n",
       "    .dataframe tbody tr th:only-of-type {\n",
       "        vertical-align: middle;\n",
       "    }\n",
       "\n",
       "    .dataframe tbody tr th {\n",
       "        vertical-align: top;\n",
       "    }\n",
       "\n",
       "    .dataframe thead th {\n",
       "        text-align: right;\n",
       "    }\n",
       "</style>\n",
       "<table border=\"1\" class=\"dataframe\">\n",
       "  <thead>\n",
       "    <tr style=\"text-align: right;\">\n",
       "      <th></th>\n",
       "      <th>game_type</th>\n",
       "    </tr>\n",
       "    <tr>\n",
       "      <th>shot_type</th>\n",
       "      <th></th>\n",
       "    </tr>\n",
       "  </thead>\n",
       "  <tbody>\n",
       "    <tr>\n",
       "      <th>Clearing</th>\n",
       "      <td>16609</td>\n",
       "    </tr>\n",
       "    <tr>\n",
       "      <th>Double Take-out</th>\n",
       "      <td>10354</td>\n",
       "    </tr>\n",
       "    <tr>\n",
       "      <th>Draw</th>\n",
       "      <td>57199</td>\n",
       "    </tr>\n",
       "    <tr>\n",
       "      <th>Freeze</th>\n",
       "      <td>1434</td>\n",
       "    </tr>\n",
       "    <tr>\n",
       "      <th>Front</th>\n",
       "      <td>18719</td>\n",
       "    </tr>\n",
       "    <tr>\n",
       "      <th>Guard</th>\n",
       "      <td>10980</td>\n",
       "    </tr>\n",
       "    <tr>\n",
       "      <th>Hit and Roll</th>\n",
       "      <td>14656</td>\n",
       "    </tr>\n",
       "    <tr>\n",
       "      <th>None</th>\n",
       "      <td>4806</td>\n",
       "    </tr>\n",
       "    <tr>\n",
       "      <th>Promotion Take-out</th>\n",
       "      <td>5049</td>\n",
       "    </tr>\n",
       "    <tr>\n",
       "      <th>Raise</th>\n",
       "      <td>5531</td>\n",
       "    </tr>\n",
       "    <tr>\n",
       "      <th>Take-out</th>\n",
       "      <td>34380</td>\n",
       "    </tr>\n",
       "    <tr>\n",
       "      <th>Through</th>\n",
       "      <td>853</td>\n",
       "    </tr>\n",
       "    <tr>\n",
       "      <th>Wick / Soft Peeling</th>\n",
       "      <td>2124</td>\n",
       "    </tr>\n",
       "    <tr>\n",
       "      <th>no statistics</th>\n",
       "      <td>27</td>\n",
       "    </tr>\n",
       "    <tr>\n",
       "      <th>not played</th>\n",
       "      <td>12</td>\n",
       "    </tr>\n",
       "    <tr>\n",
       "      <th>through</th>\n",
       "      <td>42</td>\n",
       "    </tr>\n",
       "  </tbody>\n",
       "</table>\n",
       "</div>"
      ],
      "text/plain": [
       "                     game_type\n",
       "shot_type                     \n",
       "Clearing                 16609\n",
       "Double Take-out          10354\n",
       "Draw                     57199\n",
       "Freeze                    1434\n",
       "Front                    18719\n",
       "Guard                    10980\n",
       "Hit and Roll             14656\n",
       "None                      4806\n",
       "Promotion Take-out        5049\n",
       "Raise                     5531\n",
       "Take-out                 34380\n",
       "Through                    853\n",
       "Wick / Soft Peeling       2124\n",
       "no statistics               27\n",
       "not played                  12\n",
       "through                     42"
      ]
     },
     "execution_count": 4,
     "metadata": {},
     "output_type": "execute_result"
    }
   ],
   "source": [
    "# 不同类型的投壶次数统计\n",
    "type_df.groupby(\"shot_type\").count()"
   ]
  },
  {
   "cell_type": "markdown",
   "metadata": {},
   "source": [
    "    需要删除一些没有意义的类型：\n",
    "- None:没有有关数据\n",
    "- no statistics: 同样没有统计\n",
    "- not played: 偶尔包括但没有意义的投掷类型，删除\n",
    "- 此外还需要把'through'换成'Through'，二者是相同的"
   ]
  },
  {
   "cell_type": "code",
   "execution_count": 5,
   "metadata": {},
   "outputs": [
    {
     "data": {
      "text/html": [
       "<div>\n",
       "<style scoped>\n",
       "    .dataframe tbody tr th:only-of-type {\n",
       "        vertical-align: middle;\n",
       "    }\n",
       "\n",
       "    .dataframe tbody tr th {\n",
       "        vertical-align: top;\n",
       "    }\n",
       "\n",
       "    .dataframe thead th {\n",
       "        text-align: right;\n",
       "    }\n",
       "</style>\n",
       "<table border=\"1\" class=\"dataframe\">\n",
       "  <thead>\n",
       "    <tr style=\"text-align: right;\">\n",
       "      <th></th>\n",
       "      <th>game_type</th>\n",
       "    </tr>\n",
       "    <tr>\n",
       "      <th>shot_type</th>\n",
       "      <th></th>\n",
       "    </tr>\n",
       "  </thead>\n",
       "  <tbody>\n",
       "    <tr>\n",
       "      <th>Clearing</th>\n",
       "      <td>16609</td>\n",
       "    </tr>\n",
       "    <tr>\n",
       "      <th>Double Take-out</th>\n",
       "      <td>10354</td>\n",
       "    </tr>\n",
       "    <tr>\n",
       "      <th>Draw</th>\n",
       "      <td>57199</td>\n",
       "    </tr>\n",
       "    <tr>\n",
       "      <th>Freeze</th>\n",
       "      <td>1434</td>\n",
       "    </tr>\n",
       "    <tr>\n",
       "      <th>Front</th>\n",
       "      <td>18719</td>\n",
       "    </tr>\n",
       "    <tr>\n",
       "      <th>Guard</th>\n",
       "      <td>10980</td>\n",
       "    </tr>\n",
       "    <tr>\n",
       "      <th>Hit and Roll</th>\n",
       "      <td>14656</td>\n",
       "    </tr>\n",
       "    <tr>\n",
       "      <th>Promotion Take-out</th>\n",
       "      <td>5049</td>\n",
       "    </tr>\n",
       "    <tr>\n",
       "      <th>Raise</th>\n",
       "      <td>5531</td>\n",
       "    </tr>\n",
       "    <tr>\n",
       "      <th>Take-out</th>\n",
       "      <td>34380</td>\n",
       "    </tr>\n",
       "    <tr>\n",
       "      <th>Through</th>\n",
       "      <td>895</td>\n",
       "    </tr>\n",
       "    <tr>\n",
       "      <th>Wick / Soft Peeling</th>\n",
       "      <td>2124</td>\n",
       "    </tr>\n",
       "  </tbody>\n",
       "</table>\n",
       "</div>"
      ],
      "text/plain": [
       "                     game_type\n",
       "shot_type                     \n",
       "Clearing                 16609\n",
       "Double Take-out          10354\n",
       "Draw                     57199\n",
       "Freeze                    1434\n",
       "Front                    18719\n",
       "Guard                    10980\n",
       "Hit and Roll             14656\n",
       "Promotion Take-out        5049\n",
       "Raise                     5531\n",
       "Take-out                 34380\n",
       "Through                    895\n",
       "Wick / Soft Peeling       2124"
      ]
     },
     "execution_count": 5,
     "metadata": {},
     "output_type": "execute_result"
    }
   ],
   "source": [
    "type_df_clean = type_df[type_df[\"shot_type\"] != \"None\"]\n",
    "type_df_clean = type_df_clean[type_df_clean[\"shot_type\"] != \"no statistics\"]\n",
    "type_df_clean = type_df_clean[type_df_clean[\"shot_type\"] != \"not played\"]\n",
    "type_df_clean = type_df_clean.replace(\"through\", \"Through\")\n",
    "type_df_clean.groupby(\"shot_type\").count()"
   ]
  },
  {
   "cell_type": "code",
   "execution_count": 6,
   "metadata": {},
   "outputs": [
    {
     "data": {
      "text/html": [
       "<div>\n",
       "<style scoped>\n",
       "    .dataframe tbody tr th:only-of-type {\n",
       "        vertical-align: middle;\n",
       "    }\n",
       "\n",
       "    .dataframe tbody tr th {\n",
       "        vertical-align: top;\n",
       "    }\n",
       "\n",
       "    .dataframe thead th {\n",
       "        text-align: right;\n",
       "    }\n",
       "</style>\n",
       "<table border=\"1\" class=\"dataframe\">\n",
       "  <thead>\n",
       "    <tr style=\"text-align: right;\">\n",
       "      <th></th>\n",
       "      <th>shot_type</th>\n",
       "    </tr>\n",
       "    <tr>\n",
       "      <th>game_type</th>\n",
       "      <th></th>\n",
       "    </tr>\n",
       "  </thead>\n",
       "  <tbody>\n",
       "    <tr>\n",
       "      <th>Men</th>\n",
       "      <td>93112</td>\n",
       "    </tr>\n",
       "    <tr>\n",
       "      <th>Women</th>\n",
       "      <td>84818</td>\n",
       "    </tr>\n",
       "  </tbody>\n",
       "</table>\n",
       "</div>"
      ],
      "text/plain": [
       "           shot_type\n",
       "game_type           \n",
       "Men            93112\n",
       "Women          84818"
      ]
     },
     "execution_count": 6,
     "metadata": {},
     "output_type": "execute_result"
    }
   ],
   "source": [
    "# 清洗过的数据分别统计男女运动员投掷次数\n",
    "type_df_clean.groupby(\"game_type\").count()"
   ]
  },
  {
   "cell_type": "markdown",
   "metadata": {},
   "source": [
    "**不同的投掷方式:**\n",
    "- Clearing:击打，把对方的占位壶连同自己清理出场地\n",
    "- double take-out:又称双飞，用自己一个球，将对方两个球击出大本营\n",
    "- Draw: 向大本营里放置冰壶\n",
    "- Freeze:粘球，接触或几乎接触另一只冰壶\n",
    "- Front:防卫球的一种特殊形式\n",
    "- Guard:防卫球，位于栏线与大本营之间、用于防卫的投球\n",
    "- Hit and Roll:打甩，击走一只冰壶，使其离开中心，自己占据目标位置\n",
    "- Promotion Take-out:传击，击打第一个壶改变方向，然后把第二个壶打出界外\n",
    "- Raise:传球（例如轻碰占位壶，让占位壶到某一位置）\n",
    "- Take-out:击走，一种难度较大的击球方式，它使另一球从比赛中去除\n",
    "- Through: 放球，特殊情况下比如想当后手时使用\n",
    "- Wick/Soft Peeling: soft peeling 是clearing的减弱版本。 wick轻轻触到一只静止冰壶的运动冰壶，以改变方向"
   ]
  },
  {
   "cell_type": "code",
   "execution_count": 7,
   "metadata": {},
   "outputs": [
    {
     "data": {
      "text/html": [
       "<div>\n",
       "<style scoped>\n",
       "    .dataframe tbody tr th:only-of-type {\n",
       "        vertical-align: middle;\n",
       "    }\n",
       "\n",
       "    .dataframe tbody tr th {\n",
       "        vertical-align: top;\n",
       "    }\n",
       "\n",
       "    .dataframe thead th {\n",
       "        text-align: right;\n",
       "    }\n",
       "</style>\n",
       "<table border=\"1\" class=\"dataframe\">\n",
       "  <thead>\n",
       "    <tr style=\"text-align: right;\">\n",
       "      <th></th>\n",
       "      <th>game_type</th>\n",
       "      <th>shot_type</th>\n",
       "      <th>is_hit</th>\n",
       "    </tr>\n",
       "  </thead>\n",
       "  <tbody>\n",
       "    <tr>\n",
       "      <th>0</th>\n",
       "      <td>Men</td>\n",
       "      <td>Front</td>\n",
       "      <td>False</td>\n",
       "    </tr>\n",
       "    <tr>\n",
       "      <th>1</th>\n",
       "      <td>Men</td>\n",
       "      <td>Draw</td>\n",
       "      <td>False</td>\n",
       "    </tr>\n",
       "    <tr>\n",
       "      <th>2</th>\n",
       "      <td>Men</td>\n",
       "      <td>Hit and Roll</td>\n",
       "      <td>True</td>\n",
       "    </tr>\n",
       "    <tr>\n",
       "      <th>3</th>\n",
       "      <td>Men</td>\n",
       "      <td>Draw</td>\n",
       "      <td>False</td>\n",
       "    </tr>\n",
       "    <tr>\n",
       "      <th>4</th>\n",
       "      <td>Men</td>\n",
       "      <td>Draw</td>\n",
       "      <td>False</td>\n",
       "    </tr>\n",
       "    <tr>\n",
       "      <th>...</th>\n",
       "      <td>...</td>\n",
       "      <td>...</td>\n",
       "      <td>...</td>\n",
       "    </tr>\n",
       "    <tr>\n",
       "      <th>182770</th>\n",
       "      <td>Women</td>\n",
       "      <td>Double Take-out</td>\n",
       "      <td>True</td>\n",
       "    </tr>\n",
       "    <tr>\n",
       "      <th>182771</th>\n",
       "      <td>Women</td>\n",
       "      <td>Double Take-out</td>\n",
       "      <td>True</td>\n",
       "    </tr>\n",
       "    <tr>\n",
       "      <th>182772</th>\n",
       "      <td>Women</td>\n",
       "      <td>Double Take-out</td>\n",
       "      <td>True</td>\n",
       "    </tr>\n",
       "    <tr>\n",
       "      <th>182773</th>\n",
       "      <td>Women</td>\n",
       "      <td>Draw</td>\n",
       "      <td>False</td>\n",
       "    </tr>\n",
       "    <tr>\n",
       "      <th>182774</th>\n",
       "      <td>Women</td>\n",
       "      <td>Draw</td>\n",
       "      <td>False</td>\n",
       "    </tr>\n",
       "  </tbody>\n",
       "</table>\n",
       "<p>177930 rows × 3 columns</p>\n",
       "</div>"
      ],
      "text/plain": [
       "       game_type        shot_type  is_hit\n",
       "0            Men            Front   False\n",
       "1            Men             Draw   False\n",
       "2            Men     Hit and Roll    True\n",
       "3            Men             Draw   False\n",
       "4            Men             Draw   False\n",
       "...          ...              ...     ...\n",
       "182770     Women  Double Take-out    True\n",
       "182771     Women  Double Take-out    True\n",
       "182772     Women  Double Take-out    True\n",
       "182773     Women             Draw   False\n",
       "182774     Women             Draw   False\n",
       "\n",
       "[177930 rows x 3 columns]"
      ]
     },
     "execution_count": 7,
     "metadata": {},
     "output_type": "execute_result"
    }
   ],
   "source": [
    "# 添加is_hit字段，将上述几种技术分为2类\n",
    "hit_types = [\"Clearing\", \"Double Take-out\", \"Hit and Roll\", \"Promotion Take-out\", \"Take-out\"]\n",
    "type_df_clean[\"is_hit\"] = type_df_clean[\"shot_type\"].isin(hit_types)\n",
    "type_df_clean"
   ]
  },
  {
   "cell_type": "markdown",
   "metadata": {},
   "source": [
    "### 按现有字段分析"
   ]
  },
  {
   "cell_type": "code",
   "execution_count": 8,
   "metadata": {},
   "outputs": [
    {
     "data": {
      "text/plain": [
       "shot_type\n",
       "Clearing                9.629264\n",
       "Double Take-out         6.269869\n",
       "Draw                   31.618911\n",
       "Freeze                  0.610018\n",
       "Front                  10.784861\n",
       "Guard                   6.235501\n",
       "Hit and Roll            8.329753\n",
       "Promotion Take-out      3.269181\n",
       "Raise                   3.422760\n",
       "Take-out               18.254360\n",
       "Through                 0.514434\n",
       "Wick / Soft Peeling     1.061088\n",
       "Name: game_type, dtype: float64"
      ]
     },
     "execution_count": 8,
     "metadata": {},
     "output_type": "execute_result"
    }
   ],
   "source": [
    "import matplotlib.pyplot as plt\n",
    "\n",
    "# 将男女分开\n",
    "men_types = type_df_clean[type_df_clean[\"game_type\"] == \"Men\"]\n",
    "women_types = type_df_clean[type_df_clean[\"game_type\"] == \"Women\"]\n",
    "\n",
    "# 获取男女投壶总数,标准化\n",
    "n_men = men_types.shape[0]\n",
    "n_women = women_types.shape[0]\n",
    "\n",
    "men_type_percent = 100*men_types.groupby(\"shot_type\")[\"game_type\"].count()/n_men\n",
    "men_type_percent"
   ]
  },
  {
   "cell_type": "code",
   "execution_count": 9,
   "metadata": {},
   "outputs": [
    {
     "data": {
      "text/plain": [
       "shot_type\n",
       "Clearing                9.011059\n",
       "Double Take-out         5.324342\n",
       "Draw                   32.726544\n",
       "Freeze                  1.021010\n",
       "Front                  10.230140\n",
       "Guard                   6.100120\n",
       "Hit and Roll            8.135066\n",
       "Promotion Take-out      2.363885\n",
       "Raise                   2.763564\n",
       "Take-out               20.494471\n",
       "Through                 0.490462\n",
       "Wick / Soft Peeling     1.339338\n",
       "Name: game_type, dtype: float64"
      ]
     },
     "execution_count": 9,
     "metadata": {},
     "output_type": "execute_result"
    }
   ],
   "source": [
    "women_type_percent = 100*women_types.groupby(\"shot_type\")[\"game_type\"].count()/n_women\n",
    "women_type_percent"
   ]
  },
  {
   "cell_type": "code",
   "execution_count": 10,
   "metadata": {},
   "outputs": [
    {
     "data": {
      "text/plain": [
       "<matplotlib.legend.Legend at 0x112158700>"
      ]
     },
     "execution_count": 10,
     "metadata": {},
     "output_type": "execute_result"
    },
    {
     "data": {
      "image/png": "[encoded data removed]",
      "text/plain": [
       "<Figure size 1080x360 with 1 Axes>"
      ]
     },
     "metadata": {
      "needs_background": "light"
     },
     "output_type": "display_data"
    }
   ],
   "source": [
    "import numpy as np\n",
    "labels = men_type_percent.index.values\n",
    "n_labels = len(labels)\n",
    "men_pct = men_type_percent.values\n",
    "women_pct = women_type_percent.values\n",
    "\n",
    "x = np.arange(n_labels)\n",
    "width = 0.35\n",
    "\n",
    "# 绘图\n",
    "fig, ax = plt.subplots(figsize=(15,5))\n",
    "men_plt = ax.bar(x-width/2, men_pct, width, label='Men')\n",
    "women_plt = ax.bar(x + width/2, women_pct, width, label = 'Women')\n",
    "\n",
    "ax.set_ylabel(\"Percentage of shots\")\n",
    "ax.set_title(\"Percentage of each shot type by gender\")\n",
    "ax.set_xticks(x)\n",
    "ax.set_xticklabels(labels, rotation='vertical')\n",
    "ax.legend()"
   ]
  },
  {
   "cell_type": "markdown",
   "metadata": {},
   "source": [
    "    从上图可以看出，不管是哪一种投壶方式，男女之间的比例时都是十分接近，使用Draw和Take-out技术最为普遍，女性运动员的使用百分比更高。\n",
    "    女性使用take-out的比例更高，男性在clearing,double,promotion take-out上使用率更高，这些都是hit类型技术，而归类hit\\no-hit会丢失掉这些信息"
   ]
  },
  {
   "cell_type": "code",
   "execution_count": 11,
   "metadata": {},
   "outputs": [
    {
     "data": {
      "text/plain": [
       "array([ 8966,  5838, 29441,   568, 10042,  5806,  7756,  3044,  3187,\n",
       "       16997,   479,   988])"
      ]
     },
     "execution_count": 11,
     "metadata": {},
     "output_type": "execute_result"
    }
   ],
   "source": [
    "# 进行卡方检验\n",
    "men_type_counts = men_types.groupby(\"shot_type\")[\"game_type\"].count().values\n",
    "men_type_counts"
   ]
  },
  {
   "cell_type": "code",
   "execution_count": 12,
   "metadata": {},
   "outputs": [
    {
     "data": {
      "text/plain": [
       "array([ 7643,  4516, 27758,   866,  8677,  5174,  6900,  2005,  2344,\n",
       "       17383,   416,  1136])"
      ]
     },
     "execution_count": 12,
     "metadata": {},
     "output_type": "execute_result"
    }
   ],
   "source": [
    "women_type_counts = women_types.groupby(\"shot_type\")[\"game_type\"].count().values\n",
    "women_type_counts"
   ]
  },
  {
   "cell_type": "code",
   "execution_count": 14,
   "metadata": {},
   "outputs": [
    {
     "data": {
      "text/plain": [
       "array([[ 8966,  5838, 29441,   568, 10042,  5806,  7756,  3044,  3187,\n",
       "        16997,   479,   988],\n",
       "       [ 7643,  4516, 27758,   866,  8677,  5174,  6900,  2005,  2344,\n",
       "        17383,   416,  1136]])"
      ]
     },
     "execution_count": 14,
     "metadata": {},
     "output_type": "execute_result"
    }
   ],
   "source": [
    "# 使用chi2_contingency进行计算\n",
    "from scipy.stats import chi2_contingency\n",
    "\n",
    "#Make the contingency table out of this data.\n",
    "cont_table = np.array([men_type_counts, women_type_counts])\n",
    "cont_table"
   ]
  },
  {
   "cell_type": "code",
   "execution_count": 15,
   "metadata": {},
   "outputs": [
    {
     "data": {
      "text/plain": [
       "(547.4835720386225,\n",
       " 2.3539807626667085e-110,\n",
       " 11,\n",
       " array([[ 8691.60460855,  5418.31983364, 29932.63242848,   750.42212106,\n",
       "          9795.78220649,  5745.90996459,  7669.58619682,  2642.17663126,\n",
       "          2894.41056595, 17991.29185635,   468.35969201,  1111.50389479],\n",
       "        [ 7917.39539145,  4935.68016636, 27266.36757152,   683.57787894,\n",
       "          8923.21779351,  5234.09003541,  6986.41380318,  2406.82336874,\n",
       "          2636.58943405, 16388.70814365,   426.64030799,  1012.49610521]]))"
      ]
     },
     "execution_count": 15,
     "metadata": {},
     "output_type": "execute_result"
    }
   ],
   "source": [
    "chi2_contingency(cont_table)"
   ]
  },
  {
   "cell_type": "markdown",
   "metadata": {},
   "source": [
    "    经过列联表的独立性检验（卡方检验）得出P<0.05，因此我们得出结论，男女投壶方式存在显著性差异，尽管在百分比图中差别不是那么明显，这是因为样本总体数目比较庞大，从图上来看，女子男子差异性不大，正常来说冰壶10局比赛，每只队伍会投掷80只壶，如果是男子比赛，那我们的数学期望是："
   ]
  },
  {
   "cell_type": "code",
   "execution_count": 16,
   "metadata": {},
   "outputs": [
    {
     "data": {
      "text/plain": [
       "shot_type\n",
       "Clearing                7.703411\n",
       "Double Take-out         5.015895\n",
       "Draw                   25.295128\n",
       "Freeze                  0.488014\n",
       "Front                   8.627889\n",
       "Guard                   4.988401\n",
       "Hit and Roll            6.663803\n",
       "Promotion Take-out      2.615345\n",
       "Raise                   2.738208\n",
       "Take-out               14.603488\n",
       "Through                 0.411547\n",
       "Wick / Soft Peeling     0.848870\n",
       "Name: game_type, dtype: float64"
      ]
     },
     "execution_count": 16,
     "metadata": {},
     "output_type": "execute_result"
    }
   ],
   "source": [
    "80*men_type_percent/100"
   ]
  },
  {
   "cell_type": "markdown",
   "metadata": {},
   "source": [
    "    对于女子："
   ]
  },
  {
   "cell_type": "code",
   "execution_count": 17,
   "metadata": {},
   "outputs": [
    {
     "data": {
      "text/plain": [
       "shot_type\n",
       "Clearing                7.208847\n",
       "Double Take-out         4.259473\n",
       "Draw                   26.181235\n",
       "Freeze                  0.816808\n",
       "Front                   8.184112\n",
       "Guard                   4.880096\n",
       "Hit and Roll            6.508053\n",
       "Promotion Take-out      1.891108\n",
       "Raise                   2.210851\n",
       "Take-out               16.395576\n",
       "Through                 0.392370\n",
       "Wick / Soft Peeling     1.071471\n",
       "Name: game_type, dtype: float64"
      ]
     },
     "execution_count": 17,
     "metadata": {},
     "output_type": "execute_result"
    }
   ],
   "source": [
    "80*women_type_percent/100"
   ]
  },
  {
   "cell_type": "markdown",
   "metadata": {},
   "source": [
    "    男女间差别不是很大，但是由于大量的样本，使其在统计学上表现出显著性差异"
   ]
  },
  {
   "cell_type": "code",
   "execution_count": 18,
   "metadata": {},
   "outputs": [
    {
     "data": {
      "text/plain": [
       "shot_type\n",
       "Clearing               0.935799\n",
       "Double Take-out        0.849195\n",
       "Draw                   1.035031\n",
       "Freeze                 1.673737\n",
       "Front                  0.948565\n",
       "Guard                  0.978289\n",
       "Hit and Roll           0.976627\n",
       "Promotion Take-out     0.723082\n",
       "Raise                  0.807408\n",
       "Take-out               1.122716\n",
       "Through                0.953401\n",
       "Wick / Soft Peeling    1.262232\n",
       "Name: game_type, dtype: float64"
      ]
     },
     "execution_count": 18,
     "metadata": {},
     "output_type": "execute_result"
    }
   ],
   "source": [
    "# 分析每种投掷方式男女比值\n",
    "ratio_type_percent = women_type_percent/men_type_percent\n",
    "ratio_type_percent"
   ]
  },
  {
   "cell_type": "markdown",
   "metadata": {},
   "source": [
    "- freeze:女性会比男性多67%的可能性选择此技术\n",
    "- promotion take-out:女性比男性少28%\n",
    "- wick/soft peeling:女性比男性高26%\n",
    "不过以上都是比较少见的技术，基于之前的统计，它们在每场比赛出现的次数可能只有1次左右，因此，显著性差异很大，我们在比赛中却感觉不出来"
   ]
  },
  {
   "cell_type": "code",
   "execution_count": 19,
   "metadata": {},
   "outputs": [
    {
     "data": {
      "text/plain": [
       "array([[ 7.70341095,  5.01589484, 25.29512845,  0.48801443,  8.62788899,\n",
       "         4.98840107,  6.66380273,  2.61534496,  2.73820775, 14.60348827,\n",
       "         0.41154738,  0.84887018],\n",
       "       [ 7.20884718,  4.25947323, 26.18123512,  0.81680775,  8.18411186,\n",
       "         4.88009621,  6.50805254,  1.89110802,  2.21085147, 16.39557641,\n",
       "         0.39236954,  1.07147068]])"
      ]
     },
     "execution_count": 19,
     "metadata": {},
     "output_type": "execute_result"
    }
   ],
   "source": [
    "# 卡方检验数学期望\n",
    "game_cont_table = np.array([(80*men_type_percent/100).values, (80*women_type_percent/100).values])\n",
    "game_cont_table"
   ]
  },
  {
   "cell_type": "code",
   "execution_count": 20,
   "metadata": {},
   "outputs": [
    {
     "data": {
      "text/plain": [
       "(0.49338728193594805,\n",
       " 0.9999987199503799,\n",
       " 11,\n",
       " array([[ 7.45612906,  4.63768403, 25.73818178,  0.65241109,  8.40600043,\n",
       "          4.93424864,  6.58592763,  2.25322649,  2.47452961, 15.49953234,\n",
       "          0.40195846,  0.96017043],\n",
       "        [ 7.45612906,  4.63768403, 25.73818178,  0.65241109,  8.40600043,\n",
       "          4.93424864,  6.58592763,  2.25322649,  2.47452961, 15.49953234,\n",
       "          0.40195846,  0.96017043]]))"
      ]
     },
     "execution_count": 20,
     "metadata": {},
     "output_type": "execute_result"
    }
   ],
   "source": [
    "chi2_contingency(game_cont_table)"
   ]
  },
  {
   "cell_type": "markdown",
   "metadata": {},
   "source": [
    "    可以看出在单场比赛的投掷期望次数上，p = 1。 因此，一场比赛的数学期望不会产生统计学上的显着差异。换句话说，普通冰壶比赛观众应该无法观察到男女进行射击的频率之间的差异。"
   ]
  },
  {
   "cell_type": "code",
   "execution_count": 21,
   "metadata": {},
   "outputs": [
    {
     "data": {
      "text/plain": [
       "array([[ 770.3410946 ,  501.58948363, 2529.51284475,   48.80144342,\n",
       "         862.78889939,  498.84010654,  666.38027322,  261.53449609,\n",
       "         273.82077498, 1460.34882722,   41.15473838,   84.88701779],\n",
       "       [ 720.88471787,  425.9473225 , 2618.12351152,   81.68077531,\n",
       "         818.4111863 ,  488.0096206 ,  650.8052536 ,  189.11080195,\n",
       "         221.08514702, 1639.55764107,   39.23695442,  107.14706784]])"
      ]
     },
     "execution_count": 21,
     "metadata": {},
     "output_type": "execute_result"
    }
   ],
   "source": [
    "# 检验一下100场比赛的期望\n",
    "event_cont_table = np.array([(8000*men_type_percent/100).values, (8000*women_type_percent/100).values])\n",
    "event_cont_table"
   ]
  },
  {
   "cell_type": "code",
   "execution_count": 22,
   "metadata": {},
   "outputs": [
    {
     "data": {
      "text/plain": [
       "(49.33872819359479,\n",
       " 8.227301010191273e-07,\n",
       " 11,\n",
       " array([[ 745.61290623,  463.76840307, 2573.81817813,   65.24110937,\n",
       "          840.60004285,  493.42486357,  658.59276341,  225.32264902,\n",
       "          247.452961  , 1549.95323414,   40.1958464 ,   96.01704281],\n",
       "        [ 745.61290623,  463.76840307, 2573.81817813,   65.24110937,\n",
       "          840.60004285,  493.42486357,  658.59276341,  225.32264902,\n",
       "          247.452961  , 1549.95323414,   40.1958464 ,   96.01704281]]))"
      ]
     },
     "execution_count": 22,
     "metadata": {},
     "output_type": "execute_result"
    }
   ],
   "source": [
    "chi2_contingency(event_cont_table)"
   ]
  },
  {
   "cell_type": "markdown",
   "metadata": {},
   "source": [
    "100场比赛P值趋近0，具有显著性差异"
   ]
  },
  {
   "cell_type": "markdown",
   "metadata": {},
   "source": [
    "### 结论\n",
    "- 男女间投壶方式在统计学上具有显著性差异\n",
    "- 同1场比赛的数据不具有显著性差异\n",
    "- 当数据样本增加到100场或者更多的时候，差别就很明显"
   ]
  },
  {
   "cell_type": "markdown",
   "metadata": {},
   "source": [
    "### 按击打与非击打分类"
   ]
  },
  {
   "cell_type": "code",
   "execution_count": 23,
   "metadata": {},
   "outputs": [
    {
     "data": {
      "text/plain": [
       "is_hit\n",
       "False    50511\n",
       "True     42601\n",
       "Name: game_type, dtype: int64"
      ]
     },
     "execution_count": 23,
     "metadata": {},
     "output_type": "execute_result"
    }
   ],
   "source": [
    "# 男性\n",
    "men_is_hit = men_types.groupby(\"is_hit\")[\"game_type\"].count()\n",
    "men_is_hit"
   ]
  },
  {
   "cell_type": "code",
   "execution_count": 24,
   "metadata": {},
   "outputs": [
    {
     "data": {
      "text/plain": [
       "is_hit\n",
       "False    46371\n",
       "True     38447\n",
       "Name: game_type, dtype: int64"
      ]
     },
     "execution_count": 24,
     "metadata": {},
     "output_type": "execute_result"
    }
   ],
   "source": [
    "# 女性\n",
    "women_is_hit = women_types.groupby(\"is_hit\")[\"game_type\"].count()\n",
    "women_is_hit"
   ]
  },
  {
   "cell_type": "code",
   "execution_count": 25,
   "metadata": {
    "scrolled": true
   },
   "outputs": [
    {
     "data": {
      "text/plain": [
       "<matplotlib.legend.Legend at 0x11a3dc310>"
      ]
     },
     "execution_count": 25,
     "metadata": {},
     "output_type": "execute_result"
    },
    {
     "data": {
      "image/png": "[encoded data removed]",
      "text/plain": [
       "<Figure size 1080x360 with 1 Axes>"
      ]
     },
     "metadata": {
      "needs_background": "light"
     },
     "output_type": "display_data"
    }
   ],
   "source": [
    "labels2 = [\"Not Hit\", \"Hit\"]\n",
    "n_labels = len(labels2)\n",
    "men_hit_pct = 100*(men_is_hit.values)/n_men\n",
    "women_hit_pct = 100*(women_is_hit.values)/n_women\n",
    "\n",
    "#The label locations\n",
    "x2 = np.arange(n_labels)\n",
    "\n",
    "width2 = 0.35\n",
    "\n",
    "fig2, ax2 = plt.subplots(figsize=(15,5))\n",
    "men_hit_plt = ax2.bar(x2-width2/2, men_hit_pct, width2, label='Men')\n",
    "women_hit_plt = ax2.bar(x2 + width2/2, women_hit_pct, width2, label = 'Women')\n",
    "\n",
    "ax2.set_ylabel(\"Percentage of shots\")\n",
    "ax2.set_title(\"Percentage of Hit/Not Hit by gender\")\n",
    "ax2.set_xticks(x2)\n",
    "ax2.set_xticklabels(labels2, rotation='vertical')\n",
    "ax2.legend()"
   ]
  },
  {
   "cell_type": "markdown",
   "metadata": {},
   "source": [
    "    从上图上看，男性运动员使用击打类技术的比例要多一点点，下面进行卡方检验"
   ]
  },
  {
   "cell_type": "code",
   "execution_count": 26,
   "metadata": {},
   "outputs": [
    {
     "data": {
      "text/plain": [
       "array([[50511, 42601],\n",
       "       [46371, 38447]])"
      ]
     },
     "execution_count": 26,
     "metadata": {},
     "output_type": "execute_result"
    }
   ],
   "source": [
    "hit_cont_table = np.array([men_is_hit.values, women_is_hit.values])\n",
    "hit_cont_table"
   ]
  },
  {
   "cell_type": "code",
   "execution_count": 27,
   "metadata": {},
   "outputs": [
    {
     "data": {
      "text/plain": [
       "(3.1942410718519225,\n",
       " 0.0738980626180239,\n",
       " 1,\n",
       " array([[50699.02087338, 42412.97912662],\n",
       "        [46182.97912662, 38635.02087338]]))"
      ]
     },
     "execution_count": 27,
     "metadata": {},
     "output_type": "execute_result"
    }
   ],
   "source": [
    "chi2_contingency(hit_cont_table)"
   ]
  },
  {
   "cell_type": "markdown",
   "metadata": {},
   "source": [
    "    由卡方检验可以看出，P=0.07>0.05，因此男女运动员在hit,no-hit上统计学没有显著性差异"
   ]
  },
  {
   "cell_type": "markdown",
   "metadata": {},
   "source": [
    "## 二、通过冰壶位置分析\n",
    "    上述通过投掷方式分析的两种方式分别在一定程度上否定了我们一开始的假设：男性更倾向于击打冰壶，接下来换一种分析的思路，使用场上剩余冰壶的数量，如果之前的假设成立，那么男性运动员比赛场上平均冰壶数量应该少于女性\n",
    "    因此我们需要获取以下数据：\n",
    "- 从game表中获取type\n",
    "- 每一局(ends)场上冰壶的数量，从stone_position表中获取，我们需要通过sql语句来实现\n",
    "    1. 计算每一局的冰壶数量\n",
    "    2. 取最大值"
   ]
  },
  {
   "cell_type": "code",
   "execution_count": 28,
   "metadata": {},
   "outputs": [
    {
     "data": {
      "text/html": [
       "<div>\n",
       "<style scoped>\n",
       "    .dataframe tbody tr th:only-of-type {\n",
       "        vertical-align: middle;\n",
       "    }\n",
       "\n",
       "    .dataframe tbody tr th {\n",
       "        vertical-align: top;\n",
       "    }\n",
       "\n",
       "    .dataframe thead th {\n",
       "        text-align: right;\n",
       "    }\n",
       "</style>\n",
       "<table border=\"1\" class=\"dataframe\">\n",
       "  <thead>\n",
       "    <tr style=\"text-align: right;\">\n",
       "      <th></th>\n",
       "      <th>type</th>\n",
       "      <th>max_stones</th>\n",
       "    </tr>\n",
       "  </thead>\n",
       "  <tbody>\n",
       "    <tr>\n",
       "      <th>0</th>\n",
       "      <td>Men</td>\n",
       "      <td>5</td>\n",
       "    </tr>\n",
       "    <tr>\n",
       "      <th>1</th>\n",
       "      <td>Men</td>\n",
       "      <td>5</td>\n",
       "    </tr>\n",
       "    <tr>\n",
       "      <th>2</th>\n",
       "      <td>Men</td>\n",
       "      <td>6</td>\n",
       "    </tr>\n",
       "    <tr>\n",
       "      <th>3</th>\n",
       "      <td>Men</td>\n",
       "      <td>7</td>\n",
       "    </tr>\n",
       "    <tr>\n",
       "      <th>4</th>\n",
       "      <td>Men</td>\n",
       "      <td>7</td>\n",
       "    </tr>\n",
       "    <tr>\n",
       "      <th>...</th>\n",
       "      <td>...</td>\n",
       "      <td>...</td>\n",
       "    </tr>\n",
       "    <tr>\n",
       "      <th>11466</th>\n",
       "      <td>Women</td>\n",
       "      <td>8</td>\n",
       "    </tr>\n",
       "    <tr>\n",
       "      <th>11467</th>\n",
       "      <td>Women</td>\n",
       "      <td>3</td>\n",
       "    </tr>\n",
       "    <tr>\n",
       "      <th>11468</th>\n",
       "      <td>Women</td>\n",
       "      <td>9</td>\n",
       "    </tr>\n",
       "    <tr>\n",
       "      <th>11469</th>\n",
       "      <td>Women</td>\n",
       "      <td>3</td>\n",
       "    </tr>\n",
       "    <tr>\n",
       "      <th>11470</th>\n",
       "      <td>Women</td>\n",
       "      <td>6</td>\n",
       "    </tr>\n",
       "  </tbody>\n",
       "</table>\n",
       "<p>11471 rows × 2 columns</p>\n",
       "</div>"
      ],
      "text/plain": [
       "        type  max_stones\n",
       "0        Men           5\n",
       "1        Men           5\n",
       "2        Men           6\n",
       "3        Men           7\n",
       "4        Men           7\n",
       "...      ...         ...\n",
       "11466  Women           8\n",
       "11467  Women           3\n",
       "11468  Women           9\n",
       "11469  Women           3\n",
       "11470  Women           6\n",
       "\n",
       "[11471 rows x 2 columns]"
      ]
     },
     "execution_count": 28,
     "metadata": {},
     "output_type": "execute_result"
    }
   ],
   "source": [
    "q = \"\"\"\n",
    "WITH stone_counts AS\n",
    "(SELECT shots.end_id, stone_positions.shot_id, COUNT(stone_positions.x) AS stone_count FROM stone_positions \n",
    "INNER JOIN shots ON shots.id = stone_positions.shot_id\n",
    "GROUP BY shot_id)\n",
    "\n",
    "SELECT games.type, MAX(stone_counts.stone_count) AS max_stones FROM stone_counts\n",
    "INNER JOIN ends ON ends.id = stone_counts.end_id\n",
    "INNER JOIN games ON games.id = ends.game_id\n",
    "GROUP BY end_id\n",
    "\"\"\"\n",
    "stone_count_df = db.run_query(q)\n",
    "stone_count_df"
   ]
  },
  {
   "cell_type": "code",
   "execution_count": 29,
   "metadata": {},
   "outputs": [],
   "source": [
    "men_max_stone_counts = stone_count_df[stone_count_df[\"type\"] == \"Men\"]\n",
    "women_max_stone_counts = stone_count_df[stone_count_df[\"type\"] == \"Women\"]"
   ]
  },
  {
   "cell_type": "code",
   "execution_count": 30,
   "metadata": {},
   "outputs": [
    {
     "data": {
      "text/plain": [
       "5986"
      ]
     },
     "execution_count": 30,
     "metadata": {},
     "output_type": "execute_result"
    }
   ],
   "source": [
    "n_men_ends = men_max_stone_counts.shape[0]\n",
    "n_men_ends"
   ]
  },
  {
   "cell_type": "code",
   "execution_count": 31,
   "metadata": {},
   "outputs": [
    {
     "data": {
      "text/plain": [
       "5485"
      ]
     },
     "execution_count": 31,
     "metadata": {},
     "output_type": "execute_result"
    }
   ],
   "source": [
    "n_women_ends = women_max_stone_counts.shape[0]\n",
    "n_women_ends"
   ]
  },
  {
   "cell_type": "markdown",
   "metadata": {},
   "source": [
    "    男女运动员的比赛数量差不多，接下来绘图细分"
   ]
  },
  {
   "cell_type": "code",
   "execution_count": 32,
   "metadata": {},
   "outputs": [
    {
     "data": {
      "text/plain": [
       "<matplotlib.legend.Legend at 0x11a4335e0>"
      ]
     },
     "execution_count": 32,
     "metadata": {},
     "output_type": "execute_result"
    },
    {
     "data": {
      "image/png": "[encoded data removed]",
      "text/plain": [
       "<Figure size 1152x720 with 1 Axes>"
      ]
     },
     "metadata": {
      "needs_background": "light"
     },
     "output_type": "display_data"
    }
   ],
   "source": [
    "from matplotlib.ticker import MaxNLocator\n",
    "\n",
    "fig3, ax3 = plt.subplots(figsize=(16,10))\n",
    "men_max_plt = plt.hist(men_max_stone_counts[\"max_stones\"], density=True, bins=np.arange(0,18),alpha=0.5, label=\"Men\")\n",
    "women_max_plt = plt.hist(women_max_stone_counts[\"max_stones\"], density=True, bins=np.arange(0,18),alpha=0.5, label=\"Women\")\n",
    "ax3.set_ylabel(\"Fraction of ends\")\n",
    "ax3.set_xlabel(\"Maximum number of stones in play\")\n",
    "ax3.set_title(\"Fraction of ends with each maximum number of stones in play\")\n",
    "ax3.xaxis.set_major_locator(MaxNLocator(integer=True))\n",
    "ax3.legend()"
   ]
  },
  {
   "cell_type": "markdown",
   "metadata": {},
   "source": [
    "    由上图可以看出，女性运动员每一局场上存在的最大冰壶数量，总体分布大于男性运动员，并且差异较为明显，接下来我们用卡方检验来检验是否存在显著性差异"
   ]
  },
  {
   "cell_type": "code",
   "execution_count": 33,
   "metadata": {},
   "outputs": [
    {
     "data": {
      "image/png": "[encoded data removed]",
      "text/plain": [
       "<Figure size 432x288 with 1 Axes>"
      ]
     },
     "metadata": {
      "needs_background": "light"
     },
     "output_type": "display_data"
    }
   ],
   "source": [
    "# 绘图没有使用density=True，即没有使用标准化（以频率表示），因此会有所不同\n",
    "men_max_counts = plt.hist(men_max_stone_counts[\"max_stones\"], bins=np.arange(0,18),alpha=0.5, label=\"Men\")\n",
    "women_max_counts = plt.hist(women_max_stone_counts[\"max_stones\"], bins=np.arange(0,18),alpha=0.5, label=\"Women\")"
   ]
  },
  {
   "cell_type": "code",
   "execution_count": 36,
   "metadata": {},
   "outputs": [
    {
     "data": {
      "text/plain": [
       "array([   0.,   79.,  184.,  413.,  862., 1116.,  916.,  764.,  664.,\n",
       "        439.,  281.,  144.,   77.,   35.,    6.,    6.,    0.])"
      ]
     },
     "execution_count": 36,
     "metadata": {},
     "output_type": "execute_result"
    }
   ],
   "source": [
    "men_max_counts[0]"
   ]
  },
  {
   "cell_type": "code",
   "execution_count": 37,
   "metadata": {},
   "outputs": [
    {
     "data": {
      "text/plain": [
       "array([  0., 104., 188., 386., 684., 866., 806., 689., 626., 442., 313.,\n",
       "       189., 101.,  59.,  22.,   8.,   2.])"
      ]
     },
     "execution_count": 37,
     "metadata": {},
     "output_type": "execute_result"
    }
   ],
   "source": [
    "women_max_counts[0]"
   ]
  },
  {
   "cell_type": "code",
   "execution_count": 38,
   "metadata": {},
   "outputs": [
    {
     "data": {
      "text/plain": [
       "array([[   0.,   79.,  184.,  413.,  862., 1116.,  916.,  764.,  664.,\n",
       "         439.,  281.,  144.,   77.,   35.,    6.,    6.,    0.],\n",
       "       [   0.,  104.,  188.,  386.,  684.,  866.,  806.,  689.,  626.,\n",
       "         442.,  313.,  189.,  101.,   59.,   22.,    8.,    2.]])"
      ]
     },
     "execution_count": 38,
     "metadata": {},
     "output_type": "execute_result"
    }
   ],
   "source": [
    "# 卡方检验\n",
    "max_cont = np.array([men_max_counts[0], women_max_counts[0]])\n",
    "max_cont"
   ]
  },
  {
   "cell_type": "code",
   "execution_count": 39,
   "metadata": {},
   "outputs": [
    {
     "data": {
      "text/plain": [
       "(75.28572410643835,\n",
       " 5.027359752859968e-10,\n",
       " 15,\n",
       " array([[9.54962950e+01, 1.94123616e+02, 4.16948304e+02, 8.06761050e+02,\n",
       "         1.03428228e+03, 8.98604481e+02, 7.58230146e+02, 6.73170604e+02,\n",
       "         4.59738994e+02, 3.09971581e+02, 1.73771947e+02, 9.28871066e+01,\n",
       "         4.90527417e+01, 1.46114550e+01, 7.30572749e+00, 1.04367536e+00],\n",
       "        [8.75037050e+01, 1.77876384e+02, 3.82051696e+02, 7.39238950e+02,\n",
       "         9.47717723e+02, 8.23395519e+02, 6.94769854e+02, 6.16829396e+02,\n",
       "         4.21261006e+02, 2.84028419e+02, 1.59228053e+02, 8.51128934e+01,\n",
       "         4.49472583e+01, 1.33885450e+01, 6.69427251e+00, 9.56324645e-01]]))"
      ]
     },
     "execution_count": 39,
     "metadata": {},
     "output_type": "execute_result"
    }
   ],
   "source": [
    "# 需要删除一个零项，因为卡方检验无法处理零期望频率\n",
    "max_cont = np.array([np.delete(men_max_counts[0], 0), np.delete(women_max_counts[0], 0)])\n",
    "chi2_contingency(max_cont)"
   ]
  },
  {
   "cell_type": "markdown",
   "metadata": {},
   "source": [
    "    对于每一局场上冰壶最大数目男女运动员的分布情况，经过卡方检验后发现P<0.05接近于零，即直方图中男女差异在统计学上具有显著性差异\n",
    "    但是，对于每一局来说（不是基于这些大量的数据）以观众来看，是否能够直观的感受到这个差异呢，接下来我们用10局比赛来验证下"
   ]
  },
  {
   "cell_type": "code",
   "execution_count": 40,
   "metadata": {},
   "outputs": [
    {
     "data": {
      "text/plain": [
       "array([0.        , 0.13197461, 0.3073839 , 0.6899432 , 1.44002673,\n",
       "       1.86435015, 1.53023722, 1.27631139, 1.10925493, 0.73337788,\n",
       "       0.46942867, 0.24056131, 0.12863348, 0.05846976, 0.01002339,\n",
       "       0.01002339, 0.        ])"
      ]
     },
     "execution_count": 40,
     "metadata": {},
     "output_type": "execute_result"
    }
   ],
   "source": [
    "men_game_max = 10*men_max_plt[0]\n",
    "men_game_max"
   ]
  },
  {
   "cell_type": "code",
   "execution_count": 41,
   "metadata": {},
   "outputs": [
    {
     "data": {
      "text/plain": [
       "array([0.        , 0.18960802, 0.34275296, 0.70373747, 1.24703737,\n",
       "       1.57885141, 1.46946217, 1.25615314, 1.14129444, 0.80583409,\n",
       "       0.57064722, 0.34457612, 0.18413856, 0.10756609, 0.04010939,\n",
       "       0.01458523, 0.00364631])"
      ]
     },
     "execution_count": 41,
     "metadata": {},
     "output_type": "execute_result"
    }
   ],
   "source": [
    "women_game_max = 10*women_max_plt[0]\n",
    "women_game_max"
   ]
  },
  {
   "cell_type": "code",
   "execution_count": 42,
   "metadata": {},
   "outputs": [
    {
     "data": {
      "text/plain": [
       "(0.13043701956774909,\n",
       " 0.9999999999999137,\n",
       " 15,\n",
       " array([[0.16079131, 0.32506843, 0.69684033, 1.34353205, 1.72160078,\n",
       "         1.49984969, 1.26623227, 1.12527468, 0.76960599, 0.52003794,\n",
       "         0.29256871, 0.15638602, 0.08301793, 0.02506639, 0.01230431,\n",
       "         0.00182315],\n",
       "        [0.16079131, 0.32506843, 0.69684033, 1.34353205, 1.72160078,\n",
       "         1.49984969, 1.26623227, 1.12527468, 0.76960599, 0.52003794,\n",
       "         0.29256871, 0.15638602, 0.08301793, 0.02506639, 0.01230431,\n",
       "         0.00182315]]))"
      ]
     },
     "execution_count": 42,
     "metadata": {},
     "output_type": "execute_result"
    }
   ],
   "source": [
    "game_max_cont = np.array([np.delete(men_game_max, 0), np.delete(women_game_max, 0)])\n",
    "chi2_contingency(game_max_cont)"
   ]
  },
  {
   "cell_type": "markdown",
   "metadata": {},
   "source": [
    "    这次P值基本接近于1，也就是并没有显著性差异，那如果我们看100场比赛呢？"
   ]
  },
  {
   "cell_type": "code",
   "execution_count": 43,
   "metadata": {},
   "outputs": [
    {
     "data": {
      "text/plain": [
       "(13.04370195677491,\n",
       " 0.5989223044448491,\n",
       " 15,\n",
       " array([[ 16.07913146,  32.50684292,  69.68403333, 134.35320518,\n",
       "         172.16007816, 149.98496949, 126.62322691, 112.52746838,\n",
       "          76.96059874,  52.00379433,  29.25687132,  15.63860189,\n",
       "           8.30179261,   2.50663886,   1.23043102,   0.18231541],\n",
       "        [ 16.07913146,  32.50684292,  69.68403333, 134.35320518,\n",
       "         172.16007816, 149.98496949, 126.62322691, 112.52746838,\n",
       "          76.96059874,  52.00379433,  29.25687132,  15.63860189,\n",
       "           8.30179261,   2.50663886,   1.23043102,   0.18231541]]))"
      ]
     },
     "execution_count": 43,
     "metadata": {},
     "output_type": "execute_result"
    }
   ],
   "source": [
    "event_max_cont = np.array([np.delete(100*men_game_max, 0), np.delete(100*women_game_max, 0)])\n",
    "chi2_contingency(event_max_cont)"
   ]
  },
  {
   "cell_type": "markdown",
   "metadata": {},
   "source": [
    "    这一次,p=0.6仍然大于0.05,也就是说如果通过一场赛事的观察，仍然无法通过场上冰壶数量的统计来判断男女\n",
    "    \n",
    "## 结论\n",
    "    男女比赛在每局最大冰壶数量上存在显著性差异，但是这种差异并没有办法在一局比赛甚至一整场赛事中体现出来"
   ]
  },
  {
   "cell_type": "markdown",
   "metadata": {},
   "source": [
    "- 男子和女子冰壶投掷方式差异（按技术细分和击打与非击打分类）\n",
    "- 男子女子每局场上剩余冰壶的最大数量\n",
    "通过这两种分析方法，结果均存在显著性差异，但就单局比赛而言，男性和女性之间并不会有显著性差异，对于以场赛事100局比赛来说，同样也没有显著性差异。\n",
    "\n",
    "    目前的分析可能比较简单，无法挖掘更明显的差异。投壶方式是否与第几次投壶存在关系（第一次投壶往往是防守）？场上的比分是否会影响最后一投的决策？是更激进还是更保守？无论男女，领先的队伍都倾向于把场上清理干净而不是让场上形势变得更复杂，男女运动员的投壶准确度是否存在差异？这些都是影响结果的原因，值得我们进一步讨论研究。"
   ]
  },
  {
   "cell_type": "code",
   "execution_count": null,
   "metadata": {},
   "outputs": [],
   "source": []
  }
 ],
 "metadata": {
  "kernelspec": {
   "display_name": "Python 3",
   "language": "python",
   "name": "python3"
  },
  "language_info": {
   "codemirror_mode": {
    "name": "ipython",
    "version": 3
   },
   "file_extension": ".py",
   "mimetype": "text/x-python",
   "name": "python",
   "nbconvert_exporter": "python",
   "pygments_lexer": "ipython3",
   "version": "3.8.5"
  }
 },
 "nbformat": 4,
 "nbformat_minor": 4
}
